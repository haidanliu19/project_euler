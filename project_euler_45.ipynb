{
 "cells": [
  {
   "cell_type": "code",
   "execution_count": null,
   "metadata": {},
   "outputs": [],
   "source": [
    "from tqdm.notebook import tqdm"
   ]
  },
  {
   "cell_type": "code",
   "execution_count": 21,
   "metadata": {},
   "outputs": [],
   "source": [
    "list_t = [int(n * (n+1)/2)  for n in range(1,10000)]"
   ]
  },
  {
   "cell_type": "code",
   "execution_count": 22,
   "metadata": {},
   "outputs": [],
   "source": [
    "list_p = [int(n * (3*n-1)/2)  for n in range(1,10000)]"
   ]
  },
  {
   "cell_type": "code",
   "execution_count": 23,
   "metadata": {},
   "outputs": [],
   "source": [
    "list_h = [int(n*(2*n-1)) for n in range(1,10000)]"
   ]
  },
  {
   "cell_type": "code",
   "execution_count": 12,
   "metadata": {},
   "outputs": [
    {
     "name": "stdout",
     "output_type": "stream",
     "text": [
      "40755\n",
      "40755\n",
      "40755\n"
     ]
    }
   ],
   "source": [
    "def t_(n):\n",
    "    return int(n * (n+1)/2)\n",
    "\n",
    "def p_(n):\n",
    "    return int(n * (3*n-1)/2) \n",
    "\n",
    "def h_(n):\n",
    "    return int(n*(2*n-1))\n",
    "\n",
    "print(t_(285))\n",
    "print(p_(165))\n",
    "print(h_(143))"
   ]
  },
  {
   "cell_type": "code",
   "execution_count": 20,
   "metadata": {},
   "outputs": [
    {
     "name": "stdout",
     "output_type": "stream",
     "text": [
      "1\n",
      "40755\n",
      "1533776805\n"
     ]
    }
   ],
   "source": [
    "list_t = [int(n * (n+1)/2)  for n in range(1,100000)]\n",
    "list_p = [int(n * (3*n-1)/2)  for n in range(1,100000)]\n",
    "list_h = [int(n*(2*n-1)) for n in range(1,100000)]\n",
    "for i in list_t:\n",
    "    if (i in list_p)  and  (i in list_h):\n",
    "        print(i)"
   ]
  }
 ],
 "metadata": {
  "kernelspec": {
   "display_name": "Python 3",
   "language": "python",
   "name": "python3"
  },
  "language_info": {
   "codemirror_mode": {
    "name": "ipython",
    "version": 3
   },
   "file_extension": ".py",
   "mimetype": "text/x-python",
   "name": "python",
   "nbconvert_exporter": "python",
   "pygments_lexer": "ipython3",
   "version": "3.8.5"
  }
 },
 "nbformat": 4,
 "nbformat_minor": 4
}
