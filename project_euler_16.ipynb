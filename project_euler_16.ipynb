{
 "cells": [
  {
   "cell_type": "code",
   "execution_count": 1,
   "metadata": {},
   "outputs": [
    {
     "name": "stdout",
     "output_type": "stream",
     "text": [
      "26\n",
      "1366\n"
     ]
    }
   ],
   "source": [
    "###########16\n",
    "data = 2** 15\n",
    "_sum = 0\n",
    "for i in str(data):\n",
    "    _sum += int(i)\n",
    "print(_sum)\n",
    "\n",
    "data = 2** 1000\n",
    "_sum = 0\n",
    "for i in str(data):\n",
    "    _sum += int(i)\n",
    "print(_sum)"
   ]
  },
  {
   "cell_type": "code",
   "execution_count": null,
   "metadata": {},
   "outputs": [],
   "source": []
  }
 ],
 "metadata": {
  "kernelspec": {
   "display_name": "Python 3",
   "language": "python",
   "name": "python3"
  },
  "language_info": {
   "codemirror_mode": {
    "name": "ipython",
    "version": 3
   },
   "file_extension": ".py",
   "mimetype": "text/x-python",
   "name": "python",
   "nbconvert_exporter": "python",
   "pygments_lexer": "ipython3",
   "version": "3.8.5"
  }
 },
 "nbformat": 4,
 "nbformat_minor": 4
}
