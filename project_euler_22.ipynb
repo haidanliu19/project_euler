{
 "cells": [
  {
   "cell_type": "code",
   "execution_count": null,
   "metadata": {},
   "outputs": [],
   "source": [
    "########## 22\n",
    "result = []\n",
    "with open (\"names.txt\") as f:\n",
    "    result = f.read().split(',')\n",
    "\n",
    "result.sort()\n",
    "\n",
    "from string import ascii_uppercase\n",
    "print(ascii_uppercase.index('C')+ 1)\n",
    "i = 0\n",
    "total = 0\n",
    "while i < len(result):\n",
    "    result_1 = 0\n",
    "    temp = result[i].strip('\"')\n",
    "    for j in temp:\n",
    "        result_1 += (ascii_uppercase.index(j) + 1)\n",
    "    i += 1\n",
    "    total += (result_1 * i)\n",
    " \n",
    " \n",
    "print(total)"
   ]
  }
 ],
 "metadata": {
  "kernelspec": {
   "display_name": "Python 3",
   "language": "python",
   "name": "python3"
  },
  "language_info": {
   "codemirror_mode": {
    "name": "ipython",
    "version": 3
   },
   "file_extension": ".py",
   "mimetype": "text/x-python",
   "name": "python",
   "nbconvert_exporter": "python",
   "pygments_lexer": "ipython3",
   "version": "3.8.5"
  }
 },
 "nbformat": 4,
 "nbformat_minor": 4
}
