{
 "cells": [
  {
   "cell_type": "code",
   "execution_count": 1,
   "metadata": {},
   "outputs": [
    {
     "name": "stdout",
     "output_type": "stream",
     "text": [
      "Answer: 137846528820\n"
     ]
    }
   ],
   "source": [
    "###########15\n",
    "def factory(n):\n",
    "    if n == 1:\n",
    "        return n\n",
    "    else:\n",
    "        return n * factory(n-1)\n",
    "\n",
    "    \n",
    "factory_40 = factory(40)\n",
    "factory_20 = factory(20)\n",
    "\n",
    "total = factory_40 / (factory_20 * factory_20)\n",
    "\n",
    "print(\"Answer: {:d}\".format(int(total)))"
   ]
  },
  {
   "cell_type": "code",
   "execution_count": null,
   "metadata": {},
   "outputs": [],
   "source": []
  }
 ],
 "metadata": {
  "kernelspec": {
   "display_name": "Python 3",
   "language": "python",
   "name": "python3"
  },
  "language_info": {
   "codemirror_mode": {
    "name": "ipython",
    "version": 3
   },
   "file_extension": ".py",
   "mimetype": "text/x-python",
   "name": "python",
   "nbconvert_exporter": "python",
   "pygments_lexer": "ipython3",
   "version": "3.8.5"
  }
 },
 "nbformat": 4,
 "nbformat_minor": 4
}
