{
 "cells": [
  {
   "cell_type": "code",
   "execution_count": 1,
   "metadata": {},
   "outputs": [
    {
     "name": "stdout",
     "output_type": "stream",
     "text": [
      "2783915460\n",
      "0123456789\n",
      "0123456798\n",
      "0123456879\n",
      "0123456897\n"
     ]
    }
   ],
   "source": [
    "########## 24\n",
    "import itertools \n",
    "\n",
    "def cal_lexicographic_permutation(range_to) : \n",
    "  seq = 1 \n",
    "  num = '0123456789' \n",
    "  num_list = itertools.permutations(num) \n",
    "  for lexi_num in num_list : \n",
    "    if seq == range_to : \n",
    "      return \"\".join(lexi_num) \n",
    "    seq += 1 \n",
    "print(cal_lexicographic_permutation(1000000))\n",
    "print(cal_lexicographic_permutation(1))\n",
    "print(cal_lexicographic_permutation(2))\n",
    "print(cal_lexicographic_permutation(3))\n",
    "print(cal_lexicographic_permutation(4))"
   ]
  },
  {
   "cell_type": "code",
   "execution_count": null,
   "metadata": {},
   "outputs": [],
   "source": []
  }
 ],
 "metadata": {
  "kernelspec": {
   "display_name": "Python 3",
   "language": "python",
   "name": "python3"
  },
  "language_info": {
   "codemirror_mode": {
    "name": "ipython",
    "version": 3
   },
   "file_extension": ".py",
   "mimetype": "text/x-python",
   "name": "python",
   "nbconvert_exporter": "python",
   "pygments_lexer": "ipython3",
   "version": "3.8.5"
  }
 },
 "nbformat": 4,
 "nbformat_minor": 4
}
