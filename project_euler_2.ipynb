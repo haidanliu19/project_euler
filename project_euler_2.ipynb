{
 "cells": [
  {
   "cell_type": "code",
   "execution_count": 1,
   "metadata": {},
   "outputs": [
    {
     "name": "stdout",
     "output_type": "stream",
     "text": [
      "1\n",
      "2\n",
      "3\n",
      "5\n",
      "8\n",
      "4613732\n"
     ]
    }
   ],
   "source": [
    "########2\n",
    "def fibonacci(n):\n",
    "    if n ==1 or n == 2:\n",
    "        return n\n",
    "    return fibonacci(n-1)+ fibonacci(n-2)\n",
    "\n",
    "print(fibonacci(1))\n",
    "print(fibonacci(2))\n",
    "print(fibonacci(3))\n",
    "print(fibonacci(4))\n",
    "print(fibonacci(5))\n",
    "\n",
    "_result = 0\n",
    "n = 1\n",
    "while True:\n",
    "    fibo = fibonacci(n)\n",
    "    if fibo% 2 == 0:\n",
    "        _result += fibo\n",
    "    n += 1\n",
    "    if fibo >=4000000:\n",
    "        break\n",
    "print(_result)"
   ]
  }
 ],
 "metadata": {
  "kernelspec": {
   "display_name": "Python 3",
   "language": "python",
   "name": "python3"
  },
  "language_info": {
   "codemirror_mode": {
    "name": "ipython",
    "version": 3
   },
   "file_extension": ".py",
   "mimetype": "text/x-python",
   "name": "python",
   "nbconvert_exporter": "python",
   "pygments_lexer": "ipython3",
   "version": "3.8.5"
  }
 },
 "nbformat": 4,
 "nbformat_minor": 4
}
