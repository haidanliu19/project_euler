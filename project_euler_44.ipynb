{
 "cells": [
  {
   "cell_type": "code",
   "execution_count": 1,
   "metadata": {},
   "outputs": [
    {
     "data": {
      "application/vnd.jupyter.widget-view+json": {
       "model_id": "1ccfd36ffb1548edba6838a9d52293be",
       "version_major": 2,
       "version_minor": 0
      },
      "text/plain": [
       "HBox(children=(HTML(value=''), FloatProgress(value=0.0, max=999.0), HTML(value='')))"
      ]
     },
     "metadata": {},
     "output_type": "display_data"
    },
    {
     "name": "stdout",
     "output_type": "stream",
     "text": [
      "\n",
      "[]\n"
     ]
    }
   ],
   "source": [
    "### 44\n",
    "\n",
    "from tqdm.notebook import tqdm\n",
    "# 오각수 확인\n",
    "list_ = [int(n * (3*n-1)/2)  for n in range(1,1000)]\n",
    "_result = []\n",
    "for i in tqdm(range(len(list_))):\n",
    "    for j in range(i+1, len(list_)):\n",
    "        if ((list_[i]+list_[j]) in list_) and ((list_[i]-list_[j]) in list_):\n",
    "            _result.append(list_[j]-list_[i])\n",
    "            \n",
    "print(_result)"
   ]
  },
  {
   "cell_type": "code",
   "execution_count": 2,
   "metadata": {},
   "outputs": [
    {
     "data": {
      "text/plain": [
       "True"
      ]
     },
     "execution_count": 2,
     "metadata": {},
     "output_type": "execute_result"
    }
   ],
   "source": [
    "int(list_[3]) + int(list_[6]) in list_"
   ]
  },
  {
   "cell_type": "code",
   "execution_count": 3,
   "metadata": {},
   "outputs": [
    {
     "data": {
      "text/plain": [
       "False"
      ]
     },
     "execution_count": 3,
     "metadata": {},
     "output_type": "execute_result"
    }
   ],
   "source": [
    "int(list_[3]) - int(list_[6]) in list_"
   ]
  },
  {
   "cell_type": "code",
   "execution_count": 4,
   "metadata": {},
   "outputs": [
    {
     "data": {
      "text/plain": [
       "[]"
      ]
     },
     "execution_count": 4,
     "metadata": {},
     "output_type": "execute_result"
    }
   ],
   "source": [
    "_result"
   ]
  },
  {
   "cell_type": "code",
   "execution_count": 5,
   "metadata": {},
   "outputs": [
    {
     "data": {
      "application/vnd.jupyter.widget-view+json": {
       "model_id": "7525d2a8370e47968eb007fec11493e5",
       "version_major": 2,
       "version_minor": 0
      },
      "text/plain": [
       "HBox(children=(HTML(value=''), FloatProgress(value=0.0, max=9999.0), HTML(value='')))"
      ]
     },
     "metadata": {},
     "output_type": "display_data"
    },
    {
     "name": "stdout",
     "output_type": "stream",
     "text": [
      "\n",
      "[]\n"
     ]
    }
   ],
   "source": [
    "list_ = [int(n * (3*n-1)/2)  for n in range(1,10000)]\n",
    "\n",
    "from tqdm.notebook import tqdm\n",
    "_result = []\n",
    "for i in tqdm(range(len(list_))):\n",
    "    for j in range(i+1, len(list_)):\n",
    "        if ((list_[i]+list_[j]) in list_) and ((list_[i]-list_[j]) in list_):\n",
    "            _result.append(list_[j]-list_[i])\n",
    "            \n",
    "print(_result)"
   ]
  }
 ],
 "metadata": {
  "kernelspec": {
   "display_name": "Python 3",
   "language": "python",
   "name": "python3"
  },
  "language_info": {
   "codemirror_mode": {
    "name": "ipython",
    "version": 3
   },
   "file_extension": ".py",
   "mimetype": "text/x-python",
   "name": "python",
   "nbconvert_exporter": "python",
   "pygments_lexer": "ipython3",
   "version": "3.8.5"
  }
 },
 "nbformat": 4,
 "nbformat_minor": 4
}
