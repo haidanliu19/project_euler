{
 "cells": [
  {
   "cell_type": "code",
   "execution_count": 1,
   "metadata": {},
   "outputs": [
    {
     "name": "stdout",
     "output_type": "stream",
     "text": [
      "[1, 1, 1, 1, 1, 1, 1, 1, 1, 1, 1, 1, 1, 1, 1, 1, 1, 1, 1, 1, 1, 1, 1, 1, 1, 1, 1, 1, 1, 1, 1, 1, 1, 1, 1, 1, 1, 1, 1, 1, 1, 1, 1, 1, 1, 1, 1, 1, 1, 1, 1, 1, 1, 1, 1, 1, 1, 1, 1, 1, 1, 1, 1, 1, 1, 1, 1, 1, 1, 1, 1, 1, 1, 1, 1, 1, 1, 1, 1, 1, 1, 1, 1, 1, 1, 1, 1, 1, 1, 1, 1, 1, 1, 1, 1, 1, 1, 1, 1, 1, 1, 1, 1, 1, 1, 1, 1, 1, 1, 1, 1, 1, 1, 1, 1, 1, 1, 1, 1, 1, 1, 1, 1, 1, 1, 1, 1, 1, 1, 1, 1, 1, 1, 1, 1, 1, 1, 1, 1, 1, 1, 1, 1, 1, 1, 1, 1, 1, 1, 1, 1, 1, 1, 1, 1, 1, 1, 1, 1, 1, 1, 1, 1, 1, 1, 1, 1, 1, 1, 1, 1, 1, 1, 1, 1, 1, 1, 1, 1, 1, 1, 1, 1, 1, 1, 1, 1, 1, 1, 1, 1, 1, 1, 1, 1, 1, 1, 1, 1, 1, 1]\n",
      "[1, 1, 2, 2, 3, 4, 5, 6, 7, 8, 11, 12, 15, 16, 19, 22, 25, 28, 31, 34, 41, 44, 51, 54, 61, 68, 75, 82, 89, 96, 109, 116, 129, 136, 149, 162, 175, 188, 201, 214, 236, 249, 271, 284, 306, 328, 350, 372, 394, 416, 451, 473, 508, 530, 565, 600, 635, 670, 705, 740, 793, 828, 881, 916, 969, 1022, 1075, 1128, 1181, 1234, 1311, 1364, 1441, 1494, 1571, 1648, 1725, 1802, 1879, 1956, 2064, 2141, 2249, 2326, 2434, 2542, 2650, 2758, 2866, 2974, 3121, 3229, 3376, 3484, 3631, 3778, 3925, 4072, 4219, 4366, 4563, 4710, 4907, 5054, 5251, 5448, 5645, 5842, 6039, 6236, 6495, 6692, 6951, 7148, 7407, 7666, 7925, 8184, 8443, 8702, 9038, 9297, 9633, 9892, 10228, 10564, 10900, 11236, 11572, 11908, 12337, 12673, 13102, 13438, 13867, 14296, 14725, 15154, 15583, 16012, 16553, 16982, 17523, 17952, 18493, 19034, 19575, 20116, 20657, 21198, 21873, 22414, 23089, 23630, 24305, 24980, 25655, 26330, 27005, 27680, 28514, 29189, 30023, 30698, 31532, 32366, 33200, 34034, 34868, 35702, 36723, 37557, 38578, 39412, 40433, 41454, 42475, 43496, 44517, 45538, 46777, 47798, 49037, 50058, 51297, 52536, 53775, 55014, 56253, 57492, 58983, 60222, 61713, 62952, 64443, 65934, 67425, 68916, 70407, 71898, 73682]\n",
      "73682\n"
     ]
    }
   ],
   "source": [
    "############## 31\n",
    "def term_combination(term: list, target: int):\n",
    "    term.sort()\n",
    "\n",
    "    count = [1] + list(map(lambda x: 1 if x % term[0] == 0 else 0,\n",
    "                           range(1, target + 1)))\n",
    "    \n",
    "    print(count)\n",
    "\n",
    "    term.pop(0)\n",
    "\n",
    "    for t in term:\n",
    "        for i in range(t, len(count)):\n",
    "            count[i] += count[i - t]\n",
    "    print(count)\n",
    "    print(count[-1])\n",
    "\n",
    "\n",
    "if __name__ == \"__main__\":\n",
    "    term = [1, 2, 5, 10, 20, 50, 100, 200]\n",
    "    term_combination(term, 200)"
   ]
  },
  {
   "cell_type": "code",
   "execution_count": 2,
   "metadata": {},
   "outputs": [
    {
     "name": "stdout",
     "output_type": "stream",
     "text": [
      "73682\n"
     ]
    }
   ],
   "source": [
    "\t\n",
    "cnt = [1]*201\n",
    "moneys = (2,5,10,20,50,100,200)\n",
    "\n",
    "for M in moneys :\n",
    "    for i in range(200,-1,-1) : \n",
    "        cnt[i] = sum(cnt[i::-M])\n",
    "    \n",
    "print(cnt[200])"
   ]
  },
  {
   "cell_type": "code",
   "execution_count": 3,
   "metadata": {},
   "outputs": [],
   "source": [
    "ans=[[1,1,1,1,1,1,1,1]]\n",
    "crit = [1,2,5,10,20,50,100,200,500]\n",
    "\n",
    "for i in range(1,201):\n",
    "    temp = [1] \n",
    "    for j in range(1,len(crit)):\n",
    "        if i < crit[j]:\n",
    "            temp.append(0)\n",
    "        elif i ==crit[j]:\n",
    "            temp.append(1)\n",
    "        else:\n",
    "            temp.append(sum(ans[i-crit[j]][0:j+1]))\n",
    "\n",
    "    ans.append(temp)"
   ]
  },
  {
   "cell_type": "code",
   "execution_count": 4,
   "metadata": {},
   "outputs": [
    {
     "name": "stdout",
     "output_type": "stream",
     "text": [
      "73682\n"
     ]
    }
   ],
   "source": [
    "p = [1,2,5,10,20,50,100,200]\n",
    "w = [1]+[0]*200\n",
    "for c,i in [(c,i) for c in p for i in range(c,201)]:w[i] += w[i-c]\n",
    "print(w[200])"
   ]
  },
  {
   "cell_type": "code",
   "execution_count": null,
   "metadata": {},
   "outputs": [],
   "source": [
    "coins = (1, 2, 5, 10, 20, 50, 100, 200)\n",
    "ways = [1] + [0]* 200\n",
    "for coin in coins:\n",
    "    for i in range(coin, 200+1):\n",
    "        ways[i] = ways[i] + ways[i-coin]\n",
    "\n",
    "print(ways[-1])"
   ]
  }
 ],
 "metadata": {
  "kernelspec": {
   "display_name": "Python 3",
   "language": "python",
   "name": "python3"
  },
  "language_info": {
   "codemirror_mode": {
    "name": "ipython",
    "version": 3
   },
   "file_extension": ".py",
   "mimetype": "text/x-python",
   "name": "python",
   "nbconvert_exporter": "python",
   "pygments_lexer": "ipython3",
   "version": "3.8.5"
  }
 },
 "nbformat": 4,
 "nbformat_minor": 4
}
