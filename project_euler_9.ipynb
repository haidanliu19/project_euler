{
 "cells": [
  {
   "cell_type": "code",
   "execution_count": 1,
   "metadata": {},
   "outputs": [
    {
     "name": "stdout",
     "output_type": "stream",
     "text": [
      "200 ,,,,, 375 ,,, 425\n",
      "31875000\n"
     ]
    }
   ],
   "source": [
    "########9\n",
    "result=  []\n",
    "for a in range(1, 1000):\n",
    "    for b in range(a+1, 1000):\n",
    "        c = 1000 - a - b\n",
    "        if a ** 2 + b ** 2 == c ** 2 and b < c:\n",
    "            print(a, \",,,,,\", b, \",,,\", c)\n",
    "            result.append(a*b*c)\n",
    "print(max(result))"
   ]
  }
 ],
 "metadata": {
  "kernelspec": {
   "display_name": "Python 3",
   "language": "python",
   "name": "python3"
  },
  "language_info": {
   "codemirror_mode": {
    "name": "ipython",
    "version": 3
   },
   "file_extension": ".py",
   "mimetype": "text/x-python",
   "name": "python",
   "nbconvert_exporter": "python",
   "pygments_lexer": "ipython3",
   "version": "3.8.5"
  }
 },
 "nbformat": 4,
 "nbformat_minor": 4
}
