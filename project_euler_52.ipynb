{
 "cells": [
  {
   "cell_type": "code",
   "execution_count": 16,
   "metadata": {},
   "outputs": [],
   "source": [
    "from itertools import permutations\n",
    "def isPermutation(i,j):\n",
    "    permutation_j = set(\"\".join(x)  for x in permutations(str(j),len(str(i))))\n",
    "    if str(i) not in permutation_j:\n",
    "        return False\n",
    "    return True"
   ]
  },
  {
   "cell_type": "code",
   "execution_count": 17,
   "metadata": {},
   "outputs": [
    {
     "name": "stdout",
     "output_type": "stream",
     "text": [
      "[142857]\n"
     ]
    }
   ],
   "source": [
    "i = 1\n",
    "result = []\n",
    "while True:\n",
    "    nums_1 = 1 * i\n",
    "    nums_2 = 2 * i\n",
    "    nums_3 = 3 * i\n",
    "    nums_4 = 4 * i\n",
    "    nums_5 = 5 * i\n",
    "    nums_6 = 6 * i\n",
    "    if isPermutation(i, nums_1) and isPermutation(i, nums_2) and isPermutation(i, nums_3) and \\\n",
    "    isPermutation(i, nums_4) and isPermutation(i, nums_5) and isPermutation(i, nums_6):\n",
    "        result.append(i)\n",
    "        break\n",
    "    i+=1\n",
    "print(result)"
   ]
  },
  {
   "cell_type": "code",
   "execution_count": null,
   "metadata": {},
   "outputs": [],
   "source": []
  }
 ],
 "metadata": {
  "kernelspec": {
   "display_name": "Python 3",
   "language": "python",
   "name": "python3"
  },
  "language_info": {
   "codemirror_mode": {
    "name": "ipython",
    "version": 3
   },
   "file_extension": ".py",
   "mimetype": "text/x-python",
   "name": "python",
   "nbconvert_exporter": "python",
   "pygments_lexer": "ipython3",
   "version": "3.8.5"
  }
 },
 "nbformat": 4,
 "nbformat_minor": 4
}
