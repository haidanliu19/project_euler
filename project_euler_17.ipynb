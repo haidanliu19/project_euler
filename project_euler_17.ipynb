{
 "cells": [
  {
   "cell_type": "code",
   "execution_count": 1,
   "metadata": {},
   "outputs": [
    {
     "name": "stdout",
     "output_type": "stream",
     "text": [
      "21124\n"
     ]
    }
   ],
   "source": [
    "###########17\n",
    "numbers = {  1: \"one\",\n",
    "  2: \"two\",\n",
    "  3: \"three\",\n",
    "  4: \"four\",\n",
    "  5: \"five\",\n",
    "  6: \"six\",\n",
    "  7: \"seven\",\n",
    "  8: \"eight\",\n",
    "  9: \"nine\",\n",
    "  10: \"ten\",\n",
    "  11: \"eleven\",\n",
    "  12: \"twelve\",\n",
    "  13: \"thirteen\",\n",
    "  14: \"fourteen\",\n",
    "  15: \"fifteen\",\n",
    "  16: \"sixteen\",\n",
    "  17: \"seventeen\",\n",
    "  18: \"eighteen\",\n",
    "  19: \"nineteen\",\n",
    "  20: \"twenty\",\n",
    "  30: \"thirty\",\n",
    "  40: \"forty\",\n",
    "  50: \"fifty\",\n",
    "  60: \"sixty\",\n",
    "  70: \"seventy\",\n",
    "  80: \"eighty\",\n",
    "  90: \"ninety\",\n",
    "  100: \"hundred\",\n",
    "  1000: \"thousand\"}\n",
    "def numberToEng(num):\n",
    "    if (num > 20 and num <100) and num %10 != 0:\n",
    "        nums = divmod(num,10)\n",
    "        return numbers[nums[0]*10]+\" \"+ numberToEng(nums[1])\n",
    "    elif num > 100 and num < 1000:\n",
    "        nums = divmod(num,100)\n",
    "        if nums[1] != 0:\n",
    "            if nums[1]<20 or nums[1]%10 ==0:\n",
    "                return numbers[nums[0]] +\" \"+numbers[100]+\" and \"+ numbers[nums[1]]\n",
    "            else:\n",
    "                nums2 = divmod(nums[1],10)\n",
    "                return numbers[nums[0]] +\" \"+numbers[100]+\" and \"+ numbers[nums2[0]*10] +\"-\"+ numbers[nums2[1]]\n",
    "        else:\n",
    "            return numbers[nums[0]]  +\" \"+numbers[100]\n",
    "    else:\n",
    "        if num % 100 == 0:\n",
    "            return \"one \" + numbers[num]\n",
    "        return numbers[num]\n",
    "\n",
    "\n",
    "_sum = 0\n",
    "for i in range(1,1001):\n",
    "    _sum += len(numberToEng(i).replace(\" \",\"\").replace(\"-\",\"\"))\n",
    "print(_sum)"
   ]
  },
  {
   "cell_type": "code",
   "execution_count": null,
   "metadata": {},
   "outputs": [],
   "source": []
  }
 ],
 "metadata": {
  "kernelspec": {
   "display_name": "Python 3",
   "language": "python",
   "name": "python3"
  },
  "language_info": {
   "codemirror_mode": {
    "name": "ipython",
    "version": 3
   },
   "file_extension": ".py",
   "mimetype": "text/x-python",
   "name": "python",
   "nbconvert_exporter": "python",
   "pygments_lexer": "ipython3",
   "version": "3.8.5"
  }
 },
 "nbformat": 4,
 "nbformat_minor": 4
}
