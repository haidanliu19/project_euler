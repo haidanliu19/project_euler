{
 "cells": [
  {
   "cell_type": "code",
   "execution_count": 1,
   "metadata": {},
   "outputs": [
    {
     "name": "stdout",
     "output_type": "stream",
     "text": [
      "True\n"
     ]
    },
    {
     "data": {
      "application/vnd.jupyter.widget-view+json": {
       "model_id": "b8df5a5a2e674cc3b1ee1af66f691520",
       "version_major": 2,
       "version_minor": 0
      },
      "text/plain": [
       "HBox(children=(HTML(value=''), FloatProgress(value=0.0, max=9997.0), HTML(value='')))"
      ]
     },
     "metadata": {},
     "output_type": "display_data"
    },
    {
     "name": "stdout",
     "output_type": "stream",
     "text": [
      "\n",
      "932718654\n"
     ]
    }
   ],
   "source": [
    "############# 38\n",
    "from tqdm.notebook import tqdm\n",
    "def is_pandigital(num_list): \n",
    "    pandigital_list = ['1', '2', '3', '4', '5', '6', '7', '8', '9'] \n",
    "    return all(num in num_list for num in pandigital_list)\n",
    "\n",
    "list_= []\n",
    "def pandigital_cal(start,end):\n",
    "    for num in tqdm(range(start, end)):\n",
    "        i = 1\n",
    "        result_list = []\n",
    "        result = ''\n",
    "        while len(result) < 9:\n",
    "            result = num * i \n",
    "            result_list.append(str(result))\n",
    "            result = ''.join(result_list)\n",
    "            i += 1\n",
    "        if len(result) == 9:\n",
    "            result_list = list(result)\n",
    "            if is_pandigital(result_list):\n",
    "                list_.append(int(result))\n",
    "    return list_  \n",
    "\n",
    "    \n",
    "print(is_pandigital(['1','9', '2', '3', '8', '4', '5', '7', '6']))\n",
    "list_ = pandigital_cal(2, 9999 )\n",
    "print(max(list_))"
   ]
  }
 ],
 "metadata": {
  "kernelspec": {
   "display_name": "Python 3",
   "language": "python",
   "name": "python3"
  },
  "language_info": {
   "codemirror_mode": {
    "name": "ipython",
    "version": 3
   },
   "file_extension": ".py",
   "mimetype": "text/x-python",
   "name": "python",
   "nbconvert_exporter": "python",
   "pygments_lexer": "ipython3",
   "version": "3.8.5"
  }
 },
 "nbformat": 4,
 "nbformat_minor": 4
}
