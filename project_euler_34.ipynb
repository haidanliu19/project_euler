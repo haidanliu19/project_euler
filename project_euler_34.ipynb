{
 "cells": [
  {
   "cell_type": "code",
   "execution_count": 1,
   "metadata": {},
   "outputs": [
    {
     "name": "stdout",
     "output_type": "stream",
     "text": [
      "1\n",
      "[145, 40585]\n",
      "40730\n"
     ]
    }
   ],
   "source": [
    "#######34\n",
    "def factory(n):\n",
    "    if n == 1 or n == 0:\n",
    "        return 1\n",
    "    return factory(n-1) * n\n",
    "print(factory(0))\n",
    "\n",
    "result = []\n",
    "for i in range(10, 100000):\n",
    "    length = len(str(i))\n",
    "    _sum = 0\n",
    "    for a in range(0, length):\n",
    "        _sum += factory(int(str(i)[a]))\n",
    "    if _sum == i:\n",
    "        result.append(i)\n",
    "print(result)\n",
    "print(sum(result))"
   ]
  },
  {
   "cell_type": "code",
   "execution_count": null,
   "metadata": {},
   "outputs": [],
   "source": []
  }
 ],
 "metadata": {
  "kernelspec": {
   "display_name": "Python 3",
   "language": "python",
   "name": "python3"
  },
  "language_info": {
   "codemirror_mode": {
    "name": "ipython",
    "version": 3
   },
   "file_extension": ".py",
   "mimetype": "text/x-python",
   "name": "python",
   "nbconvert_exporter": "python",
   "pygments_lexer": "ipython3",
   "version": "3.8.5"
  }
 },
 "nbformat": 4,
 "nbformat_minor": 4
}
