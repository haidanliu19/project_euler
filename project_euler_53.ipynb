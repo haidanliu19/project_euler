{
 "cells": [
  {
   "cell_type": "code",
   "execution_count": 1,
   "metadata": {},
   "outputs": [],
   "source": [
    "def isCompare(num,level):\n",
    "    isCompare = True\n",
    "    for j in range(0, level-1):\n",
    "        if (str(num)[j] > str(num)[j+1]):\n",
    "            isCompare=  False\n",
    "    return isCompare"
   ]
  },
  {
   "cell_type": "code",
   "execution_count": 2,
   "metadata": {},
   "outputs": [
    {
     "name": "stdout",
     "output_type": "stream",
     "text": [
      "10\n"
     ]
    }
   ],
   "source": [
    "from itertools import permutations\n",
    "num = \"\".join([str(x) for x in range(1,6)])\n",
    "permutation_j = set(\"\".join(x)  for x in permutations(num,3))\n",
    "result = []\n",
    "for i in permutation_j:\n",
    "    if isCompare(i, 3):\n",
    "        result.append(i)\n",
    "print(len(result))"
   ]
  },
  {
   "cell_type": "code",
   "execution_count": 9,
   "metadata": {},
   "outputs": [],
   "source": [
    "def factorial(n):\n",
    "    if n == 0 or n ==1:\n",
    "        return n\n",
    "    else:\n",
    "        return n * factorial(n-1)"
   ]
  },
  {
   "cell_type": "code",
   "execution_count": 12,
   "metadata": {},
   "outputs": [
    {
     "name": "stdout",
     "output_type": "stream",
     "text": [
      "10\n"
     ]
    }
   ],
   "source": [
    "n = 5\n",
    "r = 3\n",
    "\n",
    "result = factorial(n) / (factorial(r)*factorial(n-r))\n",
    "print(int(result))"
   ]
  },
  {
   "cell_type": "code",
   "execution_count": 13,
   "metadata": {},
   "outputs": [
    {
     "name": "stdout",
     "output_type": "stream",
     "text": [
      "1144066\n"
     ]
    }
   ],
   "source": [
    "n = 23\n",
    "r = 10\n",
    "\n",
    "result = factorial(n) / (factorial(r)*factorial(n-r))\n",
    "print(int(result))"
   ]
  },
  {
   "cell_type": "code",
   "execution_count": 15,
   "metadata": {},
   "outputs": [
    {
     "data": {
      "application/vnd.jupyter.widget-view+json": {
       "model_id": "24580d17e6404fe8a70415ab738c5304",
       "version_major": 2,
       "version_minor": 0
      },
      "text/plain": [
       "HBox(children=(HTML(value=''), FloatProgress(value=0.0), HTML(value='')))"
      ]
     },
     "metadata": {},
     "output_type": "display_data"
    },
    {
     "name": "stdout",
     "output_type": "stream",
     "text": [
      "\n",
      "4075\n"
     ]
    }
   ],
   "source": [
    "from tqdm.notebook import tqdm\n",
    "cnt = 0\n",
    "for n in tqdm(range(1,101)):\n",
    "    for r in range(1, n):\n",
    "        result = factorial(n) / (factorial(r)*factorial(n-r))\n",
    "        if result >1000000:\n",
    "            cnt +=1\n",
    "print(cnt)"
   ]
  }
 ],
 "metadata": {
  "kernelspec": {
   "display_name": "Python 3",
   "language": "python",
   "name": "python3"
  },
  "language_info": {
   "codemirror_mode": {
    "name": "ipython",
    "version": 3
   },
   "file_extension": ".py",
   "mimetype": "text/x-python",
   "name": "python",
   "nbconvert_exporter": "python",
   "pygments_lexer": "ipython3",
   "version": "3.8.5"
  }
 },
 "nbformat": 4,
 "nbformat_minor": 4
}
