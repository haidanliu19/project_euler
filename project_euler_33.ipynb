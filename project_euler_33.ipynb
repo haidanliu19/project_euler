{
 "cells": [
  {
   "cell_type": "code",
   "execution_count": 1,
   "metadata": {},
   "outputs": [
    {
     "name": "stdout",
     "output_type": "stream",
     "text": [
      "[(16, 64), (19, 95), (26, 65), (49, 98)]\n"
     ]
    }
   ],
   "source": [
    "# 33\n",
    "_list = []\n",
    "for i in range(10, 100):\n",
    "    for j in range(i+1, 100):\n",
    "        _list.append((i,j))\n",
    "\n",
    "def sameNums(i,j):\n",
    "    if str(i)[1] == '0':\n",
    "        return \n",
    "    else:\n",
    "        if str(i)[0] == str(j)[0] or str(i)[0] == str(j)[1]:\n",
    "            return str(i)[0]\n",
    "        elif str(i)[1] == str(j)[0] or str(i)[1] == str(j)[1]:\n",
    "            return str(i)[1]\n",
    "        else :\n",
    "            return\n",
    "result = []\n",
    "for i, j in _list:   \n",
    "    same = sameNums(i,j)\n",
    "    if (same != None) :\n",
    "        if int(str(j).replace(str(same),'',1)) != 0:\n",
    "            if (i/j) == (int(str(i).replace(str(same),'',1)) /int(str(j).replace(str(same),'',1))):\n",
    "                result.append((i,j))\n",
    "                \n",
    "print(result)"
   ]
  }
 ],
 "metadata": {
  "kernelspec": {
   "display_name": "Python 3",
   "language": "python",
   "name": "python3"
  },
  "language_info": {
   "codemirror_mode": {
    "name": "ipython",
    "version": 3
   },
   "file_extension": ".py",
   "mimetype": "text/x-python",
   "name": "python",
   "nbconvert_exporter": "python",
   "pygments_lexer": "ipython3",
   "version": "3.8.5"
  }
 },
 "nbformat": 4,
 "nbformat_minor": 4
}
