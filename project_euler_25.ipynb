{
 "cells": [
  {
   "cell_type": "code",
   "execution_count": 1,
   "metadata": {},
   "outputs": [
    {
     "name": "stdout",
     "output_type": "stream",
     "text": [
      "Answer: 4782\n",
      "Running Time: 0.04\n"
     ]
    }
   ],
   "source": [
    "##########25\n",
    "import time\n",
    " \n",
    "count_t = time.time()\n",
    "i = 1\n",
    "j = 1\n",
    "total = 2\n",
    "while len(str(j)) != 1000:\n",
    "    total += 1\n",
    "    temp = i\n",
    "    i = j\n",
    "    j += temp\n",
    " \n",
    "print(\"Answer: {:d}\".format(total))\n",
    "print(\"Running Time: {:.02f}\".format(time.time()-count_t))"
   ]
  }
 ],
 "metadata": {
  "kernelspec": {
   "display_name": "Python 3",
   "language": "python",
   "name": "python3"
  },
  "language_info": {
   "codemirror_mode": {
    "name": "ipython",
    "version": 3
   },
   "file_extension": ".py",
   "mimetype": "text/x-python",
   "name": "python",
   "nbconvert_exporter": "python",
   "pygments_lexer": "ipython3",
   "version": "3.8.5"
  }
 },
 "nbformat": 4,
 "nbformat_minor": 4
}
