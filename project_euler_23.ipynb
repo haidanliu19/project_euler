{
 "cells": [
  {
   "cell_type": "code",
   "execution_count": 1,
   "metadata": {},
   "outputs": [
    {
     "name": "stdout",
     "output_type": "stream",
     "text": [
      "4179871\n"
     ]
    }
   ],
   "source": [
    "########## 23\n",
    "def sum_of(number):\n",
    "    _sum= 0\n",
    "    for i in range(1, number):\n",
    "        if number % i ==0:\n",
    "            _sum += i\n",
    "    return _sum\n",
    "\n",
    "result = []\n",
    "for i in range(1, 28123):\n",
    "    if sum_of(i) > i:\n",
    "        result.append(i)\n",
    "       \n",
    "\n",
    "sum_set = set() #2개의 초과수 합을 저장하는 집합\n",
    "for i in result:\n",
    "    for j in result:\n",
    "        if(i+j < 28123):\n",
    "            sum_set.add(i+j)\n",
    "        \n",
    " \n",
    "result = sum(range(1,28123)) - sum(sum_set)\n",
    "print(result)"
   ]
  }
 ],
 "metadata": {
  "kernelspec": {
   "display_name": "Python 3",
   "language": "python",
   "name": "python3"
  },
  "language_info": {
   "codemirror_mode": {
    "name": "ipython",
    "version": 3
   },
   "file_extension": ".py",
   "mimetype": "text/x-python",
   "name": "python",
   "nbconvert_exporter": "python",
   "pygments_lexer": "ipython3",
   "version": "3.8.5"
  }
 },
 "nbformat": 4,
 "nbformat_minor": 4
}
