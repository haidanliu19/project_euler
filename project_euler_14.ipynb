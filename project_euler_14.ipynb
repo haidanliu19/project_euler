{
 "cells": [
  {
   "cell_type": "code",
   "execution_count": null,
   "metadata": {},
   "outputs": [],
   "source": [
    "###########14\n",
    "dictnum = {}\n",
    "values=[]\n",
    "count= 0\n",
    "for nums in range(1,1000001):\n",
    "    key = nums\n",
    "    while True:\n",
    "\n",
    "        if nums == 1:  \n",
    "            values.insert(0,key)\n",
    "            dictnum[key] = values\n",
    "            if count < len(values):\n",
    "                count= len(values)\n",
    "                total = key\n",
    "            values= []\n",
    "            break\n",
    "        \n",
    "        if nums%2 ==0:\n",
    "            nums = int(nums/2)\n",
    "        else:\n",
    "            nums = 3* nums +1\n",
    "        values.append(nums)\n",
    "print(\"Answer: {:d}\".format(total))"
   ]
  },
  {
   "cell_type": "code",
   "execution_count": null,
   "metadata": {},
   "outputs": [],
   "source": []
  }
 ],
 "metadata": {
  "kernelspec": {
   "display_name": "Python 3",
   "language": "python",
   "name": "python3"
  },
  "language_info": {
   "codemirror_mode": {
    "name": "ipython",
    "version": 3
   },
   "file_extension": ".py",
   "mimetype": "text/x-python",
   "name": "python",
   "nbconvert_exporter": "python",
   "pygments_lexer": "ipython3",
   "version": "3.8.5"
  }
 },
 "nbformat": 4,
 "nbformat_minor": 4
}
