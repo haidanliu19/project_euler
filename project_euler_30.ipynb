{
 "cells": [
  {
   "cell_type": "code",
   "execution_count": 1,
   "metadata": {},
   "outputs": [
    {
     "name": "stdout",
     "output_type": "stream",
     "text": [
      "[4150, 4151, 54748, 92727, 93084, 194979]\n",
      "443839\n"
     ]
    }
   ],
   "source": [
    "############## 30\n",
    "result = []\n",
    "for num in range(2, 10000000):\n",
    "    num_str = str(num)\n",
    "    len_num_str = 5\n",
    "    num_sum = 0\n",
    "    for i in range(len(num_str)):\n",
    "        num_sum += int(num_str[i]) ** len_num_str\n",
    "    if num_sum == num:\n",
    "        result.append(num)\n",
    "print(result)        \n",
    "print(sum(result))"
   ]
  }
 ],
 "metadata": {
  "kernelspec": {
   "display_name": "Python 3",
   "language": "python",
   "name": "python3"
  },
  "language_info": {
   "codemirror_mode": {
    "name": "ipython",
    "version": 3
   },
   "file_extension": ".py",
   "mimetype": "text/x-python",
   "name": "python",
   "nbconvert_exporter": "python",
   "pygments_lexer": "ipython3",
   "version": "3.8.5"
  }
 },
 "nbformat": 4,
 "nbformat_minor": 4
}
