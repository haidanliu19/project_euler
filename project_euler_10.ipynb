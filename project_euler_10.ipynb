{
 "cells": [
  {
   "cell_type": "code",
   "execution_count": 2,
   "metadata": {},
   "outputs": [
    {
     "data": {
      "application/vnd.jupyter.widget-view+json": {
       "model_id": "622d50c1d44e4e769011c958759e1242",
       "version_major": 2,
       "version_minor": 0
      },
      "text/plain": [
       "HBox(children=(HTML(value=''), FloatProgress(value=0.0, max=1999999.0), HTML(value='')))"
      ]
     },
     "metadata": {},
     "output_type": "display_data"
    },
    {
     "name": "stdout",
     "output_type": "stream",
     "text": [
      "\n",
      "142913828922\n"
     ]
    }
   ],
   "source": [
    "########10\n",
    "from tqdm.notebook import tqdm\n",
    "result= []\n",
    "for x in tqdm(range(2,2000001)): \n",
    "    isPrime = True\n",
    "    for i in range(2,x):\n",
    "        if x % i == 0:\n",
    "            isPrime = False\n",
    "            break\n",
    "    if isPrime:\n",
    "         result.append(x)\n",
    "print(sum(result))"
   ]
  }
 ],
 "metadata": {
  "kernelspec": {
   "display_name": "Python 3",
   "language": "python",
   "name": "python3"
  },
  "language_info": {
   "codemirror_mode": {
    "name": "ipython",
    "version": 3
   },
   "file_extension": ".py",
   "mimetype": "text/x-python",
   "name": "python",
   "nbconvert_exporter": "python",
   "pygments_lexer": "ipython3",
   "version": "3.8.5"
  }
 },
 "nbformat": 4,
 "nbformat_minor": 4
}
