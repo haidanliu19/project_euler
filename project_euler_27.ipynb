{
 "cells": [
  {
   "cell_type": "code",
   "execution_count": 1,
   "metadata": {},
   "outputs": [
    {
     "name": "stdout",
     "output_type": "stream",
     "text": [
      "True\n",
      "True\n",
      "False\n",
      "-999 -997\n",
      "-999 -953\n",
      "-999 -863\n",
      "-999 -383\n",
      "-999 -23\n",
      "-999 61\n",
      "-991 677\n",
      "-897 409\n",
      "-539 641\n",
      "-61 971\n",
      "-59231\n"
     ]
    }
   ],
   "source": [
    "##### 27\n",
    "def isPriminary(num):\n",
    "    for i in range(2, abs(num)):\n",
    "        if num % i ==0:\n",
    "            return False\n",
    "    return True\n",
    "print(isPriminary(2))\n",
    "print(isPriminary(3))\n",
    "print(isPriminary(4))\n",
    "\n",
    "\n",
    "max_a = 0\n",
    "max_b = 0\n",
    "def _fun(a, b):\n",
    "    n = 0\n",
    "    _result = []\n",
    "    while True:\n",
    "        _fun = n ** 2 + a*n + b\n",
    "        if isPriminary(_fun) == False:\n",
    "            break\n",
    "        _result.append(n)\n",
    "        n += 1\n",
    "    return _result\n",
    "\n",
    "        \n",
    "result = []\n",
    "for a in range(-999, 1000):\n",
    "    for b in range(-999, 1000):\n",
    "        _result = _fun(a, b)\n",
    "        if len(_result) > len(result):\n",
    "            result = _result[::]\n",
    "            max_a = a\n",
    "            max_b = b\n",
    "            print(max_a,  max_b)\n",
    "        \n",
    "print(max_a* max_b)"
   ]
  },
  {
   "cell_type": "code",
   "execution_count": 2,
   "metadata": {},
   "outputs": [],
   "source": [
    "def isPriminary(num):\n",
    "    for i in range(2, abs(num)):\n",
    "        if num % i ==0:\n",
    "            return False\n",
    "    return True\n",
    "\n",
    "print(isPriminary(42))"
   ]
  },
  {
   "cell_type": "code",
   "execution_count": 3,
   "metadata": {},
   "outputs": [
    {
     "name": "stdout",
     "output_type": "stream",
     "text": [
      "11\n"
     ]
    }
   ],
   "source": [
    "def _fun(a, b):\n",
    "    n = 0\n",
    "    _result = []\n",
    "    while True:\n",
    "        _fun = n ** 2 + a*n + b\n",
    "        if isPriminary(_fun) == False:\n",
    "            break\n",
    "        _result.append(n)\n",
    "        n += 1\n",
    "    print(len(_result))\n",
    "    \n",
    "_fun(-999, 61)"
   ]
  },
  {
   "cell_type": "code",
   "execution_count": 4,
   "metadata": {},
   "outputs": [
    {
     "name": "stdout",
     "output_type": "stream",
     "text": [
      "[0, 1, 2, 3, 4, 5, 6, 7, 8, 9, 10, 11]\n"
     ]
    }
   ],
   "source": [
    "def _fun(a, b):\n",
    "    n = 0\n",
    "    _result = []\n",
    "    while True:\n",
    "        _fun = n ** 2 + a*n + b\n",
    "        _result.append(n)\n",
    "        if isPriminary(_fun) == False:\n",
    "            break\n",
    "        n += 1\n",
    "    return _result\n",
    "    \n",
    "#print(_fun(-61, 971))\n",
    "print(_fun(-999, 61))"
   ]
  }
 ],
 "metadata": {
  "kernelspec": {
   "display_name": "Python 3",
   "language": "python",
   "name": "python3"
  },
  "language_info": {
   "codemirror_mode": {
    "name": "ipython",
    "version": 3
   },
   "file_extension": ".py",
   "mimetype": "text/x-python",
   "name": "python",
   "nbconvert_exporter": "python",
   "pygments_lexer": "ipython3",
   "version": "3.8.5"
  }
 },
 "nbformat": 4,
 "nbformat_minor": 4
}
