{
 "cells": [
  {
   "cell_type": "code",
   "execution_count": 1,
   "metadata": {},
   "outputs": [
    {
     "name": "stdout",
     "output_type": "stream",
     "text": [
      "[5, 7, 13, 29]\n",
      "29\n",
      "[71, 839, 1471, 6857]\n",
      "6857\n"
     ]
    }
   ],
   "source": [
    "########3\n",
    "def isPrimite(n):\n",
    "    for i in range(2,n):\n",
    "        if n % i == 0:\n",
    "            return False\n",
    "    return True\n",
    "\n",
    "_n = 13195\n",
    "i =2\n",
    "_result = []\n",
    "while i <= _n:\n",
    "    if (_n % i ==0 ) and (isPrimite(i) == True):\n",
    "        _result.append(i)\n",
    "        _n = _n // i\n",
    "    else:\n",
    "        i += 1\n",
    "print(_result)\n",
    "print(max(_result))\n",
    "\n",
    "_n = 600851475143\n",
    "i =2\n",
    "_result = []\n",
    "while i <= _n:\n",
    "    if (_n % i ==0 ) and (isPrimite(i) == True):\n",
    "        _result.append(i)\n",
    "        _n = _n // i\n",
    "    else:\n",
    "        i += 1\n",
    "print(_result)\n",
    "print(max(_result))"
   ]
  }
 ],
 "metadata": {
  "kernelspec": {
   "display_name": "Python 3",
   "language": "python",
   "name": "python3"
  },
  "language_info": {
   "codemirror_mode": {
    "name": "ipython",
    "version": 3
   },
   "file_extension": ".py",
   "mimetype": "text/x-python",
   "name": "python",
   "nbconvert_exporter": "python",
   "pygments_lexer": "ipython3",
   "version": "3.8.5"
  }
 },
 "nbformat": 4,
 "nbformat_minor": 4
}
