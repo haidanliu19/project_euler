{
 "cells": [
  {
   "cell_type": "code",
   "execution_count": 1,
   "metadata": {},
   "outputs": [
    {
     "name": "stdout",
     "output_type": "stream",
     "text": [
      "[23]\n",
      "[23, 37]\n",
      "[23, 37, 53]\n",
      "[23, 37, 53, 73]\n",
      "[23, 37, 53, 73, 313]\n",
      "[23, 37, 53, 73, 313, 317]\n",
      "[23, 37, 53, 73, 313, 317, 373]\n",
      "[23, 37, 53, 73, 313, 317, 373, 797]\n",
      "[23, 37, 53, 73, 313, 317, 373, 797, 3137]\n",
      "[23, 37, 53, 73, 313, 317, 373, 797, 3137, 3797]\n",
      "100000\n",
      "200000\n",
      "300000\n",
      "400000\n",
      "500000\n",
      "600000\n",
      "700000\n",
      "[23, 37, 53, 73, 313, 317, 373, 797, 3137, 3797, 739397]\n",
      "748317\n"
     ]
    }
   ],
   "source": [
    "############# 37\n",
    "def isPrime(n):\n",
    "    if n ==1:\n",
    "        return False\n",
    "    \n",
    "    if n == 2 or n ==3: \n",
    "        return True\n",
    "    for i in range(2, n):\n",
    "        if n % i == 0: \n",
    "            return False\n",
    "    return True\n",
    "\n",
    "def isAllPrime(n):\n",
    "    \n",
    "    if str(n)[-1] not in ('3','5','7','2'):\n",
    "        return False\n",
    "        \n",
    "    if str(n).find('0') > 0:\n",
    "        return False\n",
    "    \n",
    "    if not isPrime(n):\n",
    "        return False\n",
    "    \n",
    "    for i in range(len(str(n))):\n",
    "        if not isPrime(int(str(n)[i:len(str(n))])):\n",
    "            return False \n",
    "        \n",
    "    for i in range(len(str(n))):\n",
    "        if not isPrime(int(str(n)[:len(str(n))-i])):\n",
    "            return False \n",
    "        \n",
    "    return True\n",
    "\n",
    "result_ = []\n",
    "i = 10\n",
    "while True:\n",
    "    \n",
    "    if isAllPrime(i):\n",
    "        result_.append(i)\n",
    "        print(result_)\n",
    "    if i % 100000 == 0:\n",
    "        print(i)\n",
    "    if len(result_) == 11:\n",
    "        break\n",
    "        \n",
    "    i += 1\n",
    "\n",
    "print(sum(result_))"
   ]
  },
  {
   "cell_type": "code",
   "execution_count": null,
   "metadata": {},
   "outputs": [],
   "source": []
  }
 ],
 "metadata": {
  "kernelspec": {
   "display_name": "Python 3",
   "language": "python",
   "name": "python3"
  },
  "language_info": {
   "codemirror_mode": {
    "name": "ipython",
    "version": 3
   },
   "file_extension": ".py",
   "mimetype": "text/x-python",
   "name": "python",
   "nbconvert_exporter": "python",
   "pygments_lexer": "ipython3",
   "version": "3.8.5"
  }
 },
 "nbformat": 4,
 "nbformat_minor": 4
}
