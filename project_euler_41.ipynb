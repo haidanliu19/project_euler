{
 "cells": [
  {
   "cell_type": "code",
   "execution_count": 1,
   "metadata": {},
   "outputs": [
    {
     "name": "stdout",
     "output_type": "stream",
     "text": [
      "7652413\n"
     ]
    }
   ],
   "source": [
    "############# 41\n",
    "#https://soooprmx.com/%EC%98%A4%EC%9D%BC%EB%9F%AC-%ED%94%84%EB%A1%9C%EC%A0%9D%ED%8A%B8-41/\n",
    "from functools import reduce\n",
    "from itertools import permutations #순열 또는 치환은 순서가 부여된 임의의 집합을 다른 순서로 뒤섞는 연산이다. \n",
    "def is_prime(n):\n",
    "    if n < 2: return False\n",
    "    if n in (2, 3): return True\n",
    "    if n % 2 == 0 or n % 3 == 0: return False\n",
    "    if n < 10 : return True\n",
    "    l, k = n**0.5, 5\n",
    "    while k <= l:\n",
    "        if n % k == 0 or n % (k+2) == 0: return False\n",
    "        k += 6\n",
    "    return True\n",
    "\n",
    "for i in permutations((7,6,5,4,3,2,1)):\n",
    "    j = reduce(lambda x, y: 10*x + y, i)\n",
    "    if is_prime(j):\n",
    "        print(j)\n",
    "        break"
   ]
  },
  {
   "cell_type": "code",
   "execution_count": null,
   "metadata": {},
   "outputs": [],
   "source": [
    "for i in permutations((3,2,1)):\n",
    "    j = reduce(lambda x, y: 10*x + y, i)\n",
    "    print(j)"
   ]
  }
 ],
 "metadata": {
  "kernelspec": {
   "display_name": "Python 3",
   "language": "python",
   "name": "python3"
  },
  "language_info": {
   "codemirror_mode": {
    "name": "ipython",
    "version": 3
   },
   "file_extension": ".py",
   "mimetype": "text/x-python",
   "name": "python",
   "nbconvert_exporter": "python",
   "pygments_lexer": "ipython3",
   "version": "3.8.5"
  }
 },
 "nbformat": 4,
 "nbformat_minor": 4
}
