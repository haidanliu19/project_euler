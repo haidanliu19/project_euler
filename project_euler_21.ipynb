{
 "cells": [
  {
   "cell_type": "code",
   "execution_count": 1,
   "metadata": {},
   "outputs": [
    {
     "name": "stdout",
     "output_type": "stream",
     "text": [
      "[220, 284, 1184, 1210, 2620, 2924, 5020, 5564, 6232, 6368]\n",
      "31626\n"
     ]
    }
   ],
   "source": [
    "########## 21\n",
    "diction = {}\n",
    "for i in range(2,10001):\n",
    "    values = []\n",
    "    for j in range(1, i-1):\n",
    "        if i % j == 0:\n",
    "            values.append(j)\n",
    "    diction[i] = values\n",
    "\n",
    "diction_1= {}\n",
    "for key in diction.keys():\n",
    "    diction_1[key] = sum(diction[key])\n",
    "\n",
    "result = []\n",
    "for key in diction_1.keys():\n",
    "    for key1 in diction_1.keys():\n",
    "        if key == diction_1[key1] and key1 == diction_1[key] and key != key1:\n",
    "            result.append(key)\n",
    "print(result)        \n",
    "print(sum(result))"
   ]
  }
 ],
 "metadata": {
  "kernelspec": {
   "display_name": "Python 3",
   "language": "python",
   "name": "python3"
  },
  "language_info": {
   "codemirror_mode": {
    "name": "ipython",
    "version": 3
   },
   "file_extension": ".py",
   "mimetype": "text/x-python",
   "name": "python",
   "nbconvert_exporter": "python",
   "pygments_lexer": "ipython3",
   "version": "3.8.5"
  }
 },
 "nbformat": 4,
 "nbformat_minor": 4
}
