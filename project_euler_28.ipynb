{
 "cells": [
  {
   "cell_type": "code",
   "execution_count": 1,
   "metadata": {},
   "outputs": [
    {
     "name": "stdout",
     "output_type": "stream",
     "text": [
      "Answer: 669171001\n",
      "Running Time: 0.00\n"
     ]
    }
   ],
   "source": [
    "##### 28\n",
    "import time\n",
    " \n",
    "count_t = time.time()\n",
    "total = 1\n",
    "for i in range(3, 1002, 2):\n",
    "    count = 0\n",
    "    for j in reversed(range(1, i*i+1, i-1)):\n",
    "        count += 1\n",
    "        total += j\n",
    "        if count == 4:\n",
    "            break;\n",
    " \n",
    "print(\"Answer: {:d}\".format(total))\n",
    "print(\"Running Time: {:.02f}\".format(time.time()-count_t))"
   ]
  },
  {
   "cell_type": "code",
   "execution_count": 2,
   "metadata": {},
   "outputs": [
    {
     "name": "stdout",
     "output_type": "stream",
     "text": [
      "24\n",
      "76\n",
      "101\n"
     ]
    }
   ],
   "source": [
    "answer=1\n",
    "for i in range(1,3):\n",
    "    answer+=4*(2*i+1)**2-(2*i+4*i+6*i)\n",
    "    print(4*(2*i+1)**2-(2*i+4*i+6*i))\n",
    "print(answer)"
   ]
  },
  {
   "cell_type": "code",
   "execution_count": 3,
   "metadata": {},
   "outputs": [
    {
     "name": "stdout",
     "output_type": "stream",
     "text": [
      "0\n",
      "1\n",
      "2\n",
      "3\n",
      "4\n",
      "669171004\n"
     ]
    }
   ],
   "source": [
    "'''\n",
    "/* nxn 행렬에 대해 대각선 값이\n",
    " * 1부터 시작, 2,2,2,2, 그리고 4,4,4,4, ..... (n-1),(n-1),(n-1),(n,1) 씩 더해주며 증가. \n",
    " * 우측 상단으로 가는 대각선은 1²,3²,5²......n²으로 증가.\n",
    " * 이런 패턴들을 정리하면... k껍데기에 있는 대각선 들의 값은\n",
    " * \n",
    " * k²+ (k²- (k-1)) + (k²- 2(k-1)) + (k² - 3(k-1)) = 4k² - 6k + 6 (k=1 제외)\n",
    " * \n",
    " * 으로 나타낼 수 있다.\n",
    " * 이제 이 껍데기들을 k=3부터 k=n까지 k=k+2씩 더해준 후 마지막에 1만 더해주면 결과가 나온다.\n",
    " * 그런데 여기서 한번 더 보면.\n",
    " * k값을 (i=1부터 i=(n-1)/2까지 i++, k = 2*i+1)로 바꿀 수 가 있다. 이를 다시 위에 식에 적용하면.\n",
    " * \n",
    " * 4(2*i+1)²- 6(2*i) + 6 = 16*i²+ 4i + 1\n",
    " * \n",
    " * 이 되고. 이 수들을 더한 값을 시그마(∑)로 나타내면.. ((n-1)/2 = t로 놨을때..)\n",
    " * \n",
    " * (i=1 부터 (n-1)/2 까지) ∑(16*i²+ 4i + 1) = 16∑i²+ 4∑i + 4∑1 \n",
    " *                                            = 16*(t*(t+1)*(2t+1)/6) + 4*(t*(t+1)/2)) + 4*t\n",
    " *                                            = (16t³)/3 + 8t²+ (8t)/3 + 2t²+ 2t + 4t\n",
    " *                                            = (16t³)/3 + 10t²+ (26t)/3\n",
    " *                                            = (16t³ + 30t²+ 26t)/3\n",
    " * \n",
    " * 이제 다시 t를 (n-1)/2로 하면... 뭔가가 나오겠지만 여기서는 귀찮으니 그냥 구현. \n",
    " * (사실 그냥 손계산은 여기서 계산하는게 더 쉽다. \n",
    " * 컴이 계산하는데는 한단계 더 나간것까지 풀어주는게 더 좋겠지만 그래봐야 아주아주아주아~ 주 극미한 차이이니 pass.)\n",
    " * 마지막에 1을 더해주는 것도 잊지 않구요!!\n",
    " */\n",
    "\n",
    "'''\n",
    "for i in range(0, 5):\n",
    "    print(i)\n",
    "    \n",
    "#for(var s=0,i=1;2*i+1<=1001;i++) s+=16*i*i+4*i+4; console.log(s+1);\n",
    "s= 0\n",
    "for i in range(int((1001/2)) +1):\n",
    "    s+=16*i*i+4*i+4\n",
    "print(s)"
   ]
  }
 ],
 "metadata": {
  "kernelspec": {
   "display_name": "Python 3",
   "language": "python",
   "name": "python3"
  },
  "language_info": {
   "codemirror_mode": {
    "name": "ipython",
    "version": 3
   },
   "file_extension": ".py",
   "mimetype": "text/x-python",
   "name": "python",
   "nbconvert_exporter": "python",
   "pygments_lexer": "ipython3",
   "version": "3.8.5"
  }
 },
 "nbformat": 4,
 "nbformat_minor": 4
}
