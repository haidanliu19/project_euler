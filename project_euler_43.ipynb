{
 "cells": [
  {
   "cell_type": "code",
   "execution_count": null,
   "metadata": {},
   "outputs": [],
   "source": [
    "### 43\n",
    "import itertools\n",
    "#StolenByte\n",
    "Total = 0\n",
    "k = [2, 3, 5, 7, 11, 13, 17]\n",
    "    \n",
    "\n",
    "for i in itertools.permutations(\"\".join([str(i) for i in range(0,10)])):\n",
    "    p = \"\".join(i)\n",
    "    isOK = 1\n",
    "    \n",
    "    for n in range(len(k)):\n",
    "        nn = int(p[n+1:n+4])\n",
    "        if nn % k[n] != 0:\n",
    "            isOK = 0\n",
    "            break\n",
    "\n",
    "    if isOK == 1:\n",
    "        Total += int(p)\n",
    "\n",
    "print('Total : '+str(Total))\n",
    "#StolenByte"
   ]
  }
 ],
 "metadata": {
  "kernelspec": {
   "display_name": "Python 3",
   "language": "python",
   "name": "python3"
  },
  "language_info": {
   "codemirror_mode": {
    "name": "ipython",
    "version": 3
   },
   "file_extension": ".py",
   "mimetype": "text/x-python",
   "name": "python",
   "nbconvert_exporter": "python",
   "pygments_lexer": "ipython3",
   "version": "3.8.5"
  }
 },
 "nbformat": 4,
 "nbformat_minor": 4
}
