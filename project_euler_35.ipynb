{
 "cells": [
  {
   "cell_type": "code",
   "execution_count": 1,
   "metadata": {},
   "outputs": [
    {
     "data": {
      "application/vnd.jupyter.widget-view+json": {
       "model_id": "3b5d549de23e4a6b9046403a6688f275",
       "version_major": 2,
       "version_minor": 0
      },
      "text/plain": [
       "HBox(children=(HTML(value=''), FloatProgress(value=0.0, max=999998.0), HTML(value='')))"
      ]
     },
     "metadata": {},
     "output_type": "display_data"
    },
    {
     "name": "stdout",
     "output_type": "stream",
     "text": [
      "\n",
      "11297\n"
     ]
    }
   ],
   "source": [
    "######### 35\n",
    "from tqdm.notebook import tqdm\n",
    "def isPrime(n):\n",
    "    if n == 1 or n == 2 or n ==3: \n",
    "        return True\n",
    "    for i in range(2, n):\n",
    "        if n % i == 0: \n",
    "            return False\n",
    "    return True\n",
    "\n",
    "def isAllPrime(n):\n",
    "    if not isPrime(n):\n",
    "        return False\n",
    "    if len(str(n)) != 1 and not isPrime(int(str(n)[::-1])):\n",
    "        return False\n",
    "    return True\n",
    "#1000000    \n",
    "#print([i for i in tqdm(range(2, 100)) if isAllPrime(i)])\n",
    "print(len([i for i in tqdm(range(2, 1000000 )) if isAllPrime(i)]))"
   ]
  },
  {
   "cell_type": "code",
   "execution_count": null,
   "metadata": {},
   "outputs": [],
   "source": []
  }
 ],
 "metadata": {
  "kernelspec": {
   "display_name": "Python 3",
   "language": "python",
   "name": "python3"
  },
  "language_info": {
   "codemirror_mode": {
    "name": "ipython",
    "version": 3
   },
   "file_extension": ".py",
   "mimetype": "text/x-python",
   "name": "python",
   "nbconvert_exporter": "python",
   "pygments_lexer": "ipython3",
   "version": "3.8.5"
  }
 },
 "nbformat": 4,
 "nbformat_minor": 4
}
