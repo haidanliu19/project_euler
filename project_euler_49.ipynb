{
 "cells": [
  {
   "cell_type": "code",
   "execution_count": 1,
   "metadata": {},
   "outputs": [],
   "source": [
    "def isPirmiray(num):\n",
    "    for i in range(2, num):\n",
    "        if num % i ==0:\n",
    "            return False\n",
    "    return True"
   ]
  },
  {
   "cell_type": "code",
   "execution_count": 53,
   "metadata": {},
   "outputs": [],
   "source": [
    "_list = [n for n in range(1000, 10000) if isPirmiray(n)]"
   ]
  },
  {
   "cell_type": "code",
   "execution_count": 59,
   "metadata": {},
   "outputs": [
    {
     "name": "stdout",
     "output_type": "stream",
     "text": [
      "False\n",
      "True\n"
     ]
    }
   ],
   "source": [
    "def isPermutation(i,j,z):\n",
    "    permutation_j = set(\"\".join(x)  for x in permutations(str(j),4))\n",
    "    if str(i) not in permutation_j:\n",
    "        return False\n",
    "    permutation_z = set(\"\".join(x)  for x in permutations(str(z),4))\n",
    "    if str(i) not in permutation_z:\n",
    "        return False\n",
    "    return True\n",
    "    \n",
    "print(isPermutation(9661, 9781, 9901))\n",
    "print(isPermutation(1487, 4817, 8147))"
   ]
  },
  {
   "cell_type": "code",
   "execution_count": 66,
   "metadata": {},
   "outputs": [
    {
     "data": {
      "application/vnd.jupyter.widget-view+json": {
       "model_id": "392ca8b75c4b4043a3d481bc8fefcb86",
       "version_major": 2,
       "version_minor": 0
      },
      "text/plain": [
       "HBox(children=(HTML(value=''), FloatProgress(value=0.0, max=1061.0), HTML(value='')))"
      ]
     },
     "metadata": {},
     "output_type": "display_data"
    },
    {
     "name": "stdout",
     "output_type": "stream",
     "text": [
      "\n",
      "[['148748178147'], ['296962999629']]\n"
     ]
    }
   ],
   "source": [
    "from tqdm.notebook import tqdm\n",
    "_result = []\n",
    "for i in tqdm(range(len(_list))):\n",
    "    for j in range(i+1,len(_list)):\n",
    "        for z in range(j+1, len(_list)):\n",
    "            if (_list[z] - _list[j]) == ( _list[j] - _list[i]) and (isPermutation(_list[i],_list[j],_list[z]) ):\n",
    "                _result.append([str(_list[i])+str(_list[j])+str(_list[z])])\n",
    "print(_result)"
   ]
  },
  {
   "cell_type": "code",
   "execution_count": 44,
   "metadata": {},
   "outputs": [
    {
     "name": "stdout",
     "output_type": "stream",
     "text": [
      "False\n",
      "False\n"
     ]
    }
   ],
   "source": [
    "def isPermutation(i,j,z):\n",
    "    for idx in str(i):\n",
    "        if idx not in str(j):\n",
    "            return False\n",
    "    for idx in str(i):\n",
    "        if idx not in str(z):\n",
    "            return False\n",
    "    for idx in str(j):\n",
    "        if idx not in str(z):\n",
    "            return False\n",
    "    return True\n",
    "    \n",
    "print(isPermutation(9661, 9781, 9901))\n",
    "print(isPermutation(1009, 1039, 1069))"
   ]
  },
  {
   "cell_type": "code",
   "execution_count": 58,
   "metadata": {},
   "outputs": [
    {
     "data": {
      "text/plain": [
       "{'1478',\n",
       " '1487',\n",
       " '1748',\n",
       " '1784',\n",
       " '1847',\n",
       " '1874',\n",
       " '4178',\n",
       " '4187',\n",
       " '4718',\n",
       " '4781',\n",
       " '4817',\n",
       " '4871',\n",
       " '7148',\n",
       " '7184',\n",
       " '7418',\n",
       " '7481',\n",
       " '7814',\n",
       " '7841',\n",
       " '8147',\n",
       " '8174',\n",
       " '8417',\n",
       " '8471',\n",
       " '8714',\n",
       " '8741'}"
      ]
     },
     "execution_count": 58,
     "metadata": {},
     "output_type": "execute_result"
    }
   ],
   "source": [
    "from itertools import permutations\n",
    "permutation = set(\"\".join(x)  for x in permutations('1487',4))\n",
    "permutation"
   ]
  }
 ],
 "metadata": {
  "kernelspec": {
   "display_name": "Python 3",
   "language": "python",
   "name": "python3"
  },
  "language_info": {
   "codemirror_mode": {
    "name": "ipython",
    "version": 3
   },
   "file_extension": ".py",
   "mimetype": "text/x-python",
   "name": "python",
   "nbconvert_exporter": "python",
   "pygments_lexer": "ipython3",
   "version": "3.8.5"
  }
 },
 "nbformat": 4,
 "nbformat_minor": 4
}
