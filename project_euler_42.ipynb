{
 "cells": [
  {
   "cell_type": "code",
   "execution_count": 2,
   "metadata": {},
   "outputs": [
    {
     "name": "stdout",
     "output_type": "stream",
     "text": [
      "162\n"
     ]
    }
   ],
   "source": [
    "######### 42 \n",
    "# https://yuda.dev/120\n",
    "import string\n",
    "\n",
    "with open('./words.txt', 'r', encoding='utf-8') as f:\n",
    "\n",
    "    def get_nth_triangle_num(n):\n",
    "        triangle_num = int(n*(n+1)/2)\n",
    "        return triangle_num\n",
    "\n",
    "    def if_alp_triangle_num(alp_string):\n",
    "        triangle_num, cnt = 0, 1\n",
    "        result_sum = sum([string.ascii_uppercase.index(i)+1 for i in list(alp_string)])\n",
    "        while triangle_num <= result_sum :\n",
    "            triangle_num = get_nth_triangle_num(cnt)\n",
    "            if result_sum == triangle_num :\n",
    "                return True\n",
    "            else :\n",
    "                cnt += 1\n",
    "        return False\n",
    "\n",
    "    def get_num_of_triangle_num_of_words():\n",
    "        result_true = 0\n",
    "        words = f.readline()\n",
    "        for word in words.split(','):\n",
    "            alp_string = word.replace('\"', '').replace('\"', '')\n",
    "            if if_alp_triangle_num(alp_string) == True:\n",
    "                result_true += 1\n",
    "        return result_true\n",
    "\n",
    "    print(get_num_of_triangle_num_of_words())"
   ]
  },
  {
   "cell_type": "code",
   "execution_count": 4,
   "metadata": {},
   "outputs": [
    {
     "name": "stdout",
     "output_type": "stream",
     "text": [
      "162\n"
     ]
    },
    {
     "data": {
      "text/plain": [
       "'\\n삼각수 공식으로\\nX=1/2n(n+1)로부터\\n2*X = n^2 + n이 되고.. 여기에서 \\n2*X의 sqrt를 적용한 값으로부터 탐색을 시작 할 수 있을 것 같았습니다.\\n'"
      ]
     },
     "execution_count": 4,
     "metadata": {},
     "output_type": "execute_result"
    }
   ],
   "source": [
    "def is_fun(a):\n",
    "    alphaList = [chr(c) for c in range(ord('A'), ord('Z')+1)]\n",
    "    add=0\n",
    "    for i in a: add+=alphaList.index(i)+1\n",
    "    j=0\n",
    "    while add>0:\n",
    "        j+=1\n",
    "        add-=j\n",
    "    if add==0: return 1\n",
    "    else: return 0\n",
    "    \n",
    "with open('./words.txt', 'r', encoding='utf-8') as f:\n",
    "    data=f.read()\n",
    "    f.close()\n",
    "    words=data.replace(\"\\\"\",\"\").replace(\",\", \" \").split()\n",
    "    _total=0\n",
    "    for i in words:\n",
    "        _total+=is_fun(i)\n",
    "    print(_total)\n",
    "#tengst\n",
    "#dev용식\n",
    "'''\n",
    "삼각수 공식으로\n",
    "X=1/2n(n+1)로부터\n",
    "2*X = n^2 + n이 되고.. 여기에서 \n",
    "2*X의 sqrt를 적용한 값으로부터 탐색을 시작 할 수 있을 것 같았습니다.\n",
    "'''"
   ]
  }
 ],
 "metadata": {
  "kernelspec": {
   "display_name": "Python 3",
   "language": "python",
   "name": "python3"
  },
  "language_info": {
   "codemirror_mode": {
    "name": "ipython",
    "version": 3
   },
   "file_extension": ".py",
   "mimetype": "text/x-python",
   "name": "python",
   "nbconvert_exporter": "python",
   "pygments_lexer": "ipython3",
   "version": "3.8.5"
  }
 },
 "nbformat": 4,
 "nbformat_minor": 4
}
